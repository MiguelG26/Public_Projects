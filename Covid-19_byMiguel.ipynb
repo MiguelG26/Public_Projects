{
  "nbformat": 4,
  "nbformat_minor": 0,
  "metadata": {
    "colab": {
      "name": "Covid19_byMike.ipynb",
      "provenance": [],
      "collapsed_sections": [],
      "authorship_tag": "ABX9TyOYqjdMx3uGItdmgYqWq8yt",
      "include_colab_link": true
    },
    "kernelspec": {
      "name": "python3",
      "display_name": "Python 3"
    }
  },
  "cells": [
    {
      "cell_type": "markdown",
      "metadata": {
        "id": "view-in-github",
        "colab_type": "text"
      },
      "source": [
        "<a href=\"https://colab.research.google.com/github/MiguelG26/Learning/blob/master/Covid19_byMike.ipynb\" target=\"_parent\"><img src=\"https://colab.research.google.com/assets/colab-badge.svg\" alt=\"Open In Colab\"/></a>"
      ]
    },
    {
      "cell_type": "code",
      "metadata": {
        "id": "4cHdjPSjzTwl",
        "colab_type": "code",
        "colab": {}
      },
      "source": [
        "import pandas as pd #\n",
        "import seaborn as sns"
      ],
      "execution_count": 19,
      "outputs": []
    },
    {
      "cell_type": "code",
      "metadata": {
        "id": "7IANBOlIzVZM",
        "colab_type": "code",
        "colab": {}
      },
      "source": [
        "df = pd.read_csv('https://opendata.ecdc.europa.eu/covid19/casedistribution/csv')"
      ],
      "execution_count": 9,
      "outputs": []
    },
    {
      "cell_type": "code",
      "metadata": {
        "id": "DR9rZD0pzX3i",
        "colab_type": "code",
        "colab": {
          "base_uri": "https://localhost:8080/",
          "height": 34
        },
        "outputId": "2eda5f95-ea73-4a1b-b501-faa5c06f6a62"
      },
      "source": [
        "len(df)"
      ],
      "execution_count": 10,
      "outputs": [
        {
          "output_type": "execute_result",
          "data": {
            "text/plain": [
              "28250"
            ]
          },
          "metadata": {
            "tags": []
          },
          "execution_count": 10
        }
      ]
    },
    {
      "cell_type": "code",
      "metadata": {
        "id": "btpviuYUzhNa",
        "colab_type": "code",
        "colab": {
          "base_uri": "https://localhost:8080/",
          "height": 204
        },
        "outputId": "8fff0cff-819e-4f5f-b684-944a0f800783"
      },
      "source": [
        "df.head()"
      ],
      "execution_count": 11,
      "outputs": [
        {
          "output_type": "execute_result",
          "data": {
            "text/html": [
              "<div>\n",
              "<style scoped>\n",
              "    .dataframe tbody tr th:only-of-type {\n",
              "        vertical-align: middle;\n",
              "    }\n",
              "\n",
              "    .dataframe tbody tr th {\n",
              "        vertical-align: top;\n",
              "    }\n",
              "\n",
              "    .dataframe thead th {\n",
              "        text-align: right;\n",
              "    }\n",
              "</style>\n",
              "<table border=\"1\" class=\"dataframe\">\n",
              "  <thead>\n",
              "    <tr style=\"text-align: right;\">\n",
              "      <th></th>\n",
              "      <th>dateRep</th>\n",
              "      <th>day</th>\n",
              "      <th>month</th>\n",
              "      <th>year</th>\n",
              "      <th>cases</th>\n",
              "      <th>deaths</th>\n",
              "      <th>countriesAndTerritories</th>\n",
              "      <th>geoId</th>\n",
              "      <th>countryterritoryCode</th>\n",
              "      <th>popData2019</th>\n",
              "      <th>continentExp</th>\n",
              "    </tr>\n",
              "  </thead>\n",
              "  <tbody>\n",
              "    <tr>\n",
              "      <th>0</th>\n",
              "      <td>07/07/2020</td>\n",
              "      <td>7</td>\n",
              "      <td>7</td>\n",
              "      <td>2020</td>\n",
              "      <td>433</td>\n",
              "      <td>56</td>\n",
              "      <td>Afghanistan</td>\n",
              "      <td>AF</td>\n",
              "      <td>AFG</td>\n",
              "      <td>38041757.0</td>\n",
              "      <td>Asia</td>\n",
              "    </tr>\n",
              "    <tr>\n",
              "      <th>1</th>\n",
              "      <td>06/07/2020</td>\n",
              "      <td>6</td>\n",
              "      <td>7</td>\n",
              "      <td>2020</td>\n",
              "      <td>279</td>\n",
              "      <td>38</td>\n",
              "      <td>Afghanistan</td>\n",
              "      <td>AF</td>\n",
              "      <td>AFG</td>\n",
              "      <td>38041757.0</td>\n",
              "      <td>Asia</td>\n",
              "    </tr>\n",
              "    <tr>\n",
              "      <th>2</th>\n",
              "      <td>05/07/2020</td>\n",
              "      <td>5</td>\n",
              "      <td>7</td>\n",
              "      <td>2020</td>\n",
              "      <td>348</td>\n",
              "      <td>7</td>\n",
              "      <td>Afghanistan</td>\n",
              "      <td>AF</td>\n",
              "      <td>AFG</td>\n",
              "      <td>38041757.0</td>\n",
              "      <td>Asia</td>\n",
              "    </tr>\n",
              "    <tr>\n",
              "      <th>3</th>\n",
              "      <td>04/07/2020</td>\n",
              "      <td>4</td>\n",
              "      <td>7</td>\n",
              "      <td>2020</td>\n",
              "      <td>302</td>\n",
              "      <td>12</td>\n",
              "      <td>Afghanistan</td>\n",
              "      <td>AF</td>\n",
              "      <td>AFG</td>\n",
              "      <td>38041757.0</td>\n",
              "      <td>Asia</td>\n",
              "    </tr>\n",
              "    <tr>\n",
              "      <th>4</th>\n",
              "      <td>03/07/2020</td>\n",
              "      <td>3</td>\n",
              "      <td>7</td>\n",
              "      <td>2020</td>\n",
              "      <td>186</td>\n",
              "      <td>33</td>\n",
              "      <td>Afghanistan</td>\n",
              "      <td>AF</td>\n",
              "      <td>AFG</td>\n",
              "      <td>38041757.0</td>\n",
              "      <td>Asia</td>\n",
              "    </tr>\n",
              "  </tbody>\n",
              "</table>\n",
              "</div>"
            ],
            "text/plain": [
              "      dateRep  day  month  ...  countryterritoryCode  popData2019  continentExp\n",
              "0  07/07/2020    7      7  ...                   AFG   38041757.0          Asia\n",
              "1  06/07/2020    6      7  ...                   AFG   38041757.0          Asia\n",
              "2  05/07/2020    5      7  ...                   AFG   38041757.0          Asia\n",
              "3  04/07/2020    4      7  ...                   AFG   38041757.0          Asia\n",
              "4  03/07/2020    3      7  ...                   AFG   38041757.0          Asia\n",
              "\n",
              "[5 rows x 11 columns]"
            ]
          },
          "metadata": {
            "tags": []
          },
          "execution_count": 11
        }
      ]
    },
    {
      "cell_type": "code",
      "metadata": {
        "id": "Yo8P1ATfzZ5a",
        "colab_type": "code",
        "colab": {
          "base_uri": "https://localhost:8080/",
          "height": 390
        },
        "outputId": "1893bd6f-86c8-4fff-8e47-fae394ce218f"
      },
      "source": [
        "df1=df.groupby('countriesAndTerritories')[['cases','deaths']].sum().sort_values('cases',ascending=False)\n",
        "df1['%All_Cases']=(df1['cases']/df1['cases'].sum()*100).round(2)\n",
        "df1['mortality_rate']=(df1['deaths']/df1['cases']*100).round(2)\n",
        "df1.head(10)"
      ],
      "execution_count": 26,
      "outputs": [
        {
          "output_type": "execute_result",
          "data": {
            "text/html": [
              "<div>\n",
              "<style scoped>\n",
              "    .dataframe tbody tr th:only-of-type {\n",
              "        vertical-align: middle;\n",
              "    }\n",
              "\n",
              "    .dataframe tbody tr th {\n",
              "        vertical-align: top;\n",
              "    }\n",
              "\n",
              "    .dataframe thead th {\n",
              "        text-align: right;\n",
              "    }\n",
              "</style>\n",
              "<table border=\"1\" class=\"dataframe\">\n",
              "  <thead>\n",
              "    <tr style=\"text-align: right;\">\n",
              "      <th></th>\n",
              "      <th>cases</th>\n",
              "      <th>deaths</th>\n",
              "      <th>%All_Cases</th>\n",
              "      <th>mortality_rate</th>\n",
              "    </tr>\n",
              "    <tr>\n",
              "      <th>countriesAndTerritories</th>\n",
              "      <th></th>\n",
              "      <th></th>\n",
              "      <th></th>\n",
              "      <th></th>\n",
              "    </tr>\n",
              "  </thead>\n",
              "  <tbody>\n",
              "    <tr>\n",
              "      <th>United_States_of_America</th>\n",
              "      <td>2938625</td>\n",
              "      <td>130306</td>\n",
              "      <td>25.36</td>\n",
              "      <td>4.43</td>\n",
              "    </tr>\n",
              "    <tr>\n",
              "      <th>Brazil</th>\n",
              "      <td>1623284</td>\n",
              "      <td>65487</td>\n",
              "      <td>14.01</td>\n",
              "      <td>4.03</td>\n",
              "    </tr>\n",
              "    <tr>\n",
              "      <th>India</th>\n",
              "      <td>719665</td>\n",
              "      <td>20160</td>\n",
              "      <td>6.21</td>\n",
              "      <td>2.80</td>\n",
              "    </tr>\n",
              "    <tr>\n",
              "      <th>Russia</th>\n",
              "      <td>687862</td>\n",
              "      <td>10296</td>\n",
              "      <td>5.94</td>\n",
              "      <td>1.50</td>\n",
              "    </tr>\n",
              "    <tr>\n",
              "      <th>Peru</th>\n",
              "      <td>305703</td>\n",
              "      <td>10772</td>\n",
              "      <td>2.64</td>\n",
              "      <td>3.52</td>\n",
              "    </tr>\n",
              "    <tr>\n",
              "      <th>Chile</th>\n",
              "      <td>298557</td>\n",
              "      <td>6384</td>\n",
              "      <td>2.58</td>\n",
              "      <td>2.14</td>\n",
              "    </tr>\n",
              "    <tr>\n",
              "      <th>United_Kingdom</th>\n",
              "      <td>285768</td>\n",
              "      <td>44236</td>\n",
              "      <td>2.47</td>\n",
              "      <td>15.48</td>\n",
              "    </tr>\n",
              "    <tr>\n",
              "      <th>Mexico</th>\n",
              "      <td>261750</td>\n",
              "      <td>31119</td>\n",
              "      <td>2.26</td>\n",
              "      <td>11.89</td>\n",
              "    </tr>\n",
              "    <tr>\n",
              "      <th>Spain</th>\n",
              "      <td>251789</td>\n",
              "      <td>28388</td>\n",
              "      <td>2.17</td>\n",
              "      <td>11.27</td>\n",
              "    </tr>\n",
              "    <tr>\n",
              "      <th>Iran</th>\n",
              "      <td>243051</td>\n",
              "      <td>11731</td>\n",
              "      <td>2.10</td>\n",
              "      <td>4.83</td>\n",
              "    </tr>\n",
              "  </tbody>\n",
              "</table>\n",
              "</div>"
            ],
            "text/plain": [
              "                            cases  deaths  %All_Cases  mortality_rate\n",
              "countriesAndTerritories                                              \n",
              "United_States_of_America  2938625  130306       25.36            4.43\n",
              "Brazil                    1623284   65487       14.01            4.03\n",
              "India                      719665   20160        6.21            2.80\n",
              "Russia                     687862   10296        5.94            1.50\n",
              "Peru                       305703   10772        2.64            3.52\n",
              "Chile                      298557    6384        2.58            2.14\n",
              "United_Kingdom             285768   44236        2.47           15.48\n",
              "Mexico                     261750   31119        2.26           11.89\n",
              "Spain                      251789   28388        2.17           11.27\n",
              "Iran                       243051   11731        2.10            4.83"
            ]
          },
          "metadata": {
            "tags": []
          },
          "execution_count": 26
        }
      ]
    },
    {
      "cell_type": "code",
      "metadata": {
        "id": "2C1mnzxjzoTi",
        "colab_type": "code",
        "colab": {}
      },
      "source": [
        ""
      ],
      "execution_count": null,
      "outputs": []
    }
  ]
}
